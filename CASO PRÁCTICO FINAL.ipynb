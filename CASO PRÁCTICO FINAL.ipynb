{
 "cells": [
  {
   "cell_type": "code",
   "execution_count": 5,
   "id": "929791d8-f8f7-4933-bc70-f95f6e967fe2",
   "metadata": {},
   "outputs": [
    {
     "name": "stdout",
     "output_type": "stream",
     "text": [
      "\n",
      "Gestor de Tareas Pendientes\n",
      "1. Agregar una nueva tarea\n",
      "2. Marcar una tarea como completada\n",
      "3. Mostrar todas las tareas\n",
      "4. Eliminar una tarea\n",
      "5. Salir\n"
     ]
    },
    {
     "name": "stdin",
     "output_type": "stream",
     "text": [
      "Elija una opción:  5\n"
     ]
    }
   ],
   "source": [
    "#Funcion: agregar_tarea(lista, descripcion) \n",
    "#Añade una nueva tarea (representada como un diccionario) a la lista.\n",
    "def agregar_tarea(lista, descripcion):\n",
    "    tarea = {\"descripcion\": descripcion, \"completada\": False}      #carga variable tarea con el nuevo diccionario creado con valor FALSE por defecto \n",
    "    lista.append(tarea)                                            #agrega mi diccionario a la lista\n",
    "\n",
    "#Funcion: marcar_tarea_completada(lista, posicion) \n",
    "#Marca una tarea específica como completada. Maneja excepciones si la posición es inválida.\n",
    "def marcar_tarea_completada(lista, posicion):\n",
    "    try:\n",
    "        lista[posicion][\"completada\"] = True                       #Cambia el valor del campo compeltada a TRUE\n",
    "    except IndexError:\n",
    "        print(\"Error: La posición ingresada no es válida.\")        #la posición es inválida.\n",
    "\n",
    "#Funcion: mostrar_tareas(lista)\n",
    "#Muestra todas las tareas con sus estados (completada o pendiente).\n",
    "def mostrar_tareas(lista):\n",
    "    if not lista:\n",
    "        print(\"No hay tareas para mostrar.\")\n",
    "    else:\n",
    "        #recorre las tareas enumerandolas en su impresion\n",
    "        for i, tarea in enumerate(lista):  \n",
    "            estado = \"Completada\" if tarea[\"completada\"] else \"Pendiente\"  #cargo mi variable estado con el valor (completada o pendiente)\n",
    "            print(f\"{i + 1}. {tarea['descripcion']} - {estado}\")           #imprime en pantalla las tareas y su estado\n",
    "\n",
    "#Funcion: eliminar_tarea(lista, posicion) \n",
    "#Elimina una tarea específica de la lista. Maneja excepcion si la posición es inválida.\n",
    "def eliminar_tarea(lista, posicion):\n",
    "    try:\n",
    "        del lista[posicion]\n",
    "    except IndexError:\n",
    "        print(\"Error: La posición ingresada no es válida.\") #posición es inválida\n",
    "\n",
    "\n",
    "#funcion: main()\n",
    "#Proporciona una interfaz de usuario para interactuar con las tareas.\n",
    "#Permite al usuario seleccionar opciones para agregar, marcar como completada, mostrar o eliminar tareas.\n",
    "#Maneja excepciones para entradas no válidas y asegura que el programa no se cierre inesperadamente.\n",
    "def main():\n",
    "    lista_de_tareas = []                                                 #Crea la lista en donde se almacenaran los diccionarios (tareas)\n",
    "\n",
    "    while True:                                                         # Imprime las opciones para interactuar con las tareas\n",
    "        print(\"\\nGestor de Tareas Pendientes\")\n",
    "        print(\"1. Agregar una nueva tarea\")\n",
    "        print(\"2. Marcar una tarea como completada\")\n",
    "        print(\"3. Mostrar todas las tareas\")\n",
    "        print(\"4. Eliminar una tarea\")\n",
    "        print(\"5. Salir\")\n",
    "\n",
    "        try:                                                         \n",
    "            opcion = int(input(\"Elija una opción: \"))                  # Imprime y solicita el ingreso de la opción\n",
    "        except ValueError:\n",
    "            print(\"Error: Por favor, ingrese un número válido.\")       \n",
    "            continue\n",
    "            \n",
    "        # Evalua la opcion ingresada\n",
    "        if opcion == 1:\n",
    "            descripcion = input(\"Ingrese la descripción de la tarea: \")\n",
    "            agregar_tarea(lista_de_tareas, descripcion)\n",
    "        elif opcion == 2:\n",
    "            try:\n",
    "                posicion = int(input(\"Ingrese la posición de la tarea a marcar como completada: \")) - 1\n",
    "                marcar_tarea_completada(lista_de_tareas, posicion)\n",
    "            except ValueError:                                               #Maneja excepcion si la posición es inválida.\n",
    "                print(\"Error: Por favor, ingrese un número válido.\")\n",
    "        elif opcion == 3:\n",
    "            mostrar_tareas(lista_de_tareas)\n",
    "        elif opcion == 4:\n",
    "            try:\n",
    "                posicion = int(input(\"Ingrese la posición de la tarea a eliminar: \")) - 1 #resta 1 a la posicion para la ubicacion del indice.\n",
    "                eliminar_tarea(lista_de_tareas, posicion)\n",
    "            except ValueError:                                               #Maneja excepcion si la posición es inválida.\n",
    "                print(\"Error: Por favor, ingrese un número válido.\")\n",
    "        elif opcion == 5:                                                    #Sale del bucle\n",
    "            break\n",
    "        else:\n",
    "            print(\"Error: Opción no válida. Por favor, elija una opción del 1 al 5.\")\n",
    "            \n",
    "#Ejecuta funcion de inicio\n",
    "if __name__ == \"__main__\":\n",
    "    main()\n"
   ]
  }
 ],
 "metadata": {
  "kernelspec": {
   "display_name": "Python 3 (ipykernel)",
   "language": "python",
   "name": "python3"
  },
  "language_info": {
   "codemirror_mode": {
    "name": "ipython",
    "version": 3
   },
   "file_extension": ".py",
   "mimetype": "text/x-python",
   "name": "python",
   "nbconvert_exporter": "python",
   "pygments_lexer": "ipython3",
   "version": "3.10.9"
  }
 },
 "nbformat": 4,
 "nbformat_minor": 5
}
